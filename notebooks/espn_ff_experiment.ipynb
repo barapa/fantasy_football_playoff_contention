{
 "cells": [
  {
   "cell_type": "code",
   "execution_count": 1,
   "metadata": {},
   "outputs": [],
   "source": [
    "from espnff import League"
   ]
  },
  {
   "cell_type": "code",
   "execution_count": 4,
   "metadata": {},
   "outputs": [],
   "source": [
    "# Import secrets\n",
    "import keyring\n",
    "\n",
    "keyring_namespace = 'fantasy_playoffs'\n",
    "cookies = {}\n",
    "cookies['espn_s2'] = keyring.get_password(keyring_namespace, \"cookies_espn_s2\")\n",
    "cookies['swid'] = keyring.get_password(keyring_namespace, \"cookies_swid\")\n",
    "league_id = keyring.get_password(keyring_namespace, \"league_id\")"
   ]
  },
  {
   "cell_type": "code",
   "execution_count": 5,
   "metadata": {},
   "outputs": [
    {
     "data": {
      "text/plain": [
       "League(383407, 2017)"
      ]
     },
     "execution_count": 5,
     "metadata": {},
     "output_type": "execute_result"
    }
   ],
   "source": [
    "year = 2017\n",
    "league = League(league_id, year, cookies['espn_s2'], cookies['swid'])\n",
    "league"
   ]
  },
  {
   "cell_type": "code",
   "execution_count": 15,
   "metadata": {},
   "outputs": [
    {
     "data": {
      "text/plain": [
       "[Team(Antonio Tony Toni),\n",
       " Team(Helmand River Devildogs),\n",
       " Team(Goose Meat Sandwich),\n",
       " Team(Tim Or Brendan),\n",
       " Team(And this doesnt HELP!!!!!),\n",
       " Team(Kentucky Kraughnt Men),\n",
       " Team(Sgt. Whiskers Don Cartagena),\n",
       " Team(poland fratwaters),\n",
       " Team(Hunt$ Point ManBoozers),\n",
       " Team(azz kicker33),\n",
       " Team(Curry Hill Brown Bombers),\n",
       " Team(Hacky's Bare foot Sackmen),\n",
       " Team(... Just the tip),\n",
       " Team(Seppuku Warriors-ah)]"
      ]
     },
     "execution_count": 15,
     "metadata": {},
     "output_type": "execute_result"
    }
   ],
   "source": [
    "# View teams\n",
    "league.teams"
   ]
  },
  {
   "cell_type": "code",
   "execution_count": 16,
   "metadata": {},
   "outputs": [
    {
     "data": {
      "text/plain": [
       "[50.0,\n",
       " 15.900000000000006,\n",
       " 2.0,\n",
       " -36.2,\n",
       " 49.20000000000002,\n",
       " 34.000000000000014,\n",
       " 3.200000000000003,\n",
       " -62.099999999999994,\n",
       " 36.2,\n",
       " -34.80000000000001,\n",
       " 0,\n",
       " 0,\n",
       " 0]"
      ]
     },
     "execution_count": 16,
     "metadata": {},
     "output_type": "execute_result"
    }
   ],
   "source": [
    "league.teams[0].mov"
   ]
  },
  {
   "cell_type": "code",
   "execution_count": 21,
   "metadata": {},
   "outputs": [
    {
     "data": {
      "text/plain": [
       "[('47.70', Team(Antonio Tony Toni)),\n",
       " ('47.50', Team(Seppuku Warriors-ah)),\n",
       " ('46.30', Team(... Just the tip)),\n",
       " ('45.05', Team(Tim Or Brendan)),\n",
       " ('40.60', Team(Kentucky Kraughnt Men)),\n",
       " ('37.05', Team(Curry Hill Brown Bombers)),\n",
       " ('36.40', Team(poland fratwaters)),\n",
       " ('33.40', Team(Hacky's Bare foot Sackmen)),\n",
       " ('32.85', Team(Hunt$ Point ManBoozers)),\n",
       " ('30.45', Team(Goose Meat Sandwich)),\n",
       " ('27.70', Team(azz kicker33)),\n",
       " ('25.55', Team(Helmand River Devildogs)),\n",
       " ('23.35', Team(And this doesnt HELP!!!!!)),\n",
       " ('18.50', Team(Sgt. Whiskers Don Cartagena))]"
      ]
     },
     "execution_count": 21,
     "metadata": {},
     "output_type": "execute_result"
    }
   ],
   "source": [
    "league.power_rankings(week=10)"
   ]
  },
  {
   "cell_type": "code",
   "execution_count": 22,
   "metadata": {},
   "outputs": [],
   "source": [
    "team = league.teams[1]"
   ]
  },
  {
   "cell_type": "code",
   "execution_count": 23,
   "metadata": {},
   "outputs": [
    {
     "data": {
      "text/plain": [
       "Team(Helmand River Devildogs)"
      ]
     },
     "execution_count": 23,
     "metadata": {},
     "output_type": "execute_result"
    }
   ],
   "source": [
    "team\n"
   ]
  },
  {
   "cell_type": "code",
   "execution_count": 27,
   "metadata": {},
   "outputs": [
    {
     "data": {
      "text/plain": [
       "[1, 2, 3, 4, 5, 6, 7, 8, 9, 10, 11, 12, 13, 14]"
      ]
     },
     "execution_count": 27,
     "metadata": {},
     "output_type": "execute_result"
    }
   ],
   "source": [
    "[t.team_id for t in league.teams]"
   ]
  },
  {
   "cell_type": "code",
   "execution_count": null,
   "metadata": {},
   "outputs": [],
   "source": []
  }
 ],
 "metadata": {
  "kernelspec": {
   "display_name": "Python [conda env:fantasy]",
   "language": "python",
   "name": "conda-env-fantasy-py"
  },
  "language_info": {
   "codemirror_mode": {
    "name": "ipython",
    "version": 3
   },
   "file_extension": ".py",
   "mimetype": "text/x-python",
   "name": "python",
   "nbconvert_exporter": "python",
   "pygments_lexer": "ipython3",
   "version": "3.6.3"
  }
 },
 "nbformat": 4,
 "nbformat_minor": 2
}
